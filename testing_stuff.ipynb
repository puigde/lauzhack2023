{
 "cells": [
  {
   "cell_type": "code",
   "execution_count": 2,
   "metadata": {},
   "outputs": [],
   "source": [
    "import cv2"
   ]
  },
  {
   "cell_type": "code",
   "execution_count": 3,
   "metadata": {},
   "outputs": [],
   "source": [
    "import sys\n",
    "sys.path.insert(0, '../')  # Adjust the path based on your directory structure\n",
    "from logivision.eye_tracker.capturer import HaarCascadeBlobCapture"
   ]
  },
  {
   "cell_type": "code",
   "execution_count": 6,
   "metadata": {},
   "outputs": [
    {
     "name": "stdout",
     "output_type": "stream",
     "text": [
      "Image captured successfully.\n"
     ]
    }
   ],
   "source": [
    "# take a picture with opencv\n",
    "def capture_webcam_image():\n",
    "    # Open the webcam (the default camera, usually 0)\n",
    "    cap = cv2.VideoCapture(0)\n",
    "\n",
    "    # Check if the webcam is opened successfully\n",
    "    if not cap.isOpened():\n",
    "        print(\"Error: Could not open webcam.\")\n",
    "        return\n",
    "\n",
    "    # Capture a single frame\n",
    "    ret, frame = cap.read()\n",
    "\n",
    "    # Release the webcam\n",
    "    cap.release()\n",
    "\n",
    "    # Check if the frame was captured successfully\n",
    "    if not ret:\n",
    "        print(\"Error: Could not capture frame.\")\n",
    "        return\n",
    "\n",
    "    # Save the captured frame as an image file\n",
    "    cv2.imwrite(\"./testing_outputs/captured_image.jpg\", frame)\n",
    "\n",
    "    print(\"Image captured successfully.\")\n",
    "# Call the function to capture an image\n",
    "capture_webcam_image()"
   ]
  },
  {
   "cell_type": "code",
   "execution_count": null,
   "metadata": {},
   "outputs": [],
   "source": []
  }
 ],
 "metadata": {
  "kernelspec": {
   "display_name": ".venv",
   "language": "python",
   "name": "python3"
  },
  "language_info": {
   "codemirror_mode": {
    "name": "ipython",
    "version": 3
   },
   "file_extension": ".py",
   "mimetype": "text/x-python",
   "name": "python",
   "nbconvert_exporter": "python",
   "pygments_lexer": "ipython3",
   "version": "3.11.6"
  }
 },
 "nbformat": 4,
 "nbformat_minor": 2
}
